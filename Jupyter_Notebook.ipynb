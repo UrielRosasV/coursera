{
 "cells": [
  {
   "cell_type": "markdown",
   "metadata": {},
   "source": [
    "<center>\n",
    "    <img src=\"https://cf-courses-data.s3.us.cloud-object-storage.appdomain.cloud/IBMDeveloperSkillsNetwork-DS0105EN-SkillsNetwork/labs/Module2/images/SN_web_lightmode.png\" width=\"300\" alt=\"cognitiveclass.ai logo\"  />\n",
    "</center>\n"
   ]
  },
  {
   "cell_type": "markdown",
   "metadata": {
    "tags": []
   },
   "source": [
    "#### Add your code below following the instructions given in the course\n"
   ]
  },
  {
   "cell_type": "markdown",
   "metadata": {},
   "source": [
    "<a href=\"https://dataplatform.cloud.ibm.com/gallery\">IBM Cloud Gallery</a> \n",
    "\n"
   ]
  },
  {
   "cell_type": "markdown",
   "metadata": {},
   "source": [
    "# My Jupyter Notebook on IBM Watson Studio"
   ]
  },
  {
   "cell_type": "markdown",
   "metadata": {},
   "source": [
    "__My name is Uriel.__\n",
    "------\n",
    "I am trying to become a data scientist, I have a degree in petroleum engineering, I am trying to integrate both disciplines to exploit the potentials of each. I am looking for this certificate to have a document that guarantees that I have knowledge in data science and thus have the opportunity to apply for some jobs where this requirement is necessary."
   ]
  },
  {
   "cell_type": "markdown",
   "metadata": {},
   "source": [
    "_I am interested in data science because I'm amazed by all the things we can do with data, and the versatility of the discipline in that it can be applied to an infinite number of fields.\n",
    "Data Science is constantly growing and updating, something that seems to me that it will continue for many years due to the constant growth of computational power._"
   ]
  },
  {
   "cell_type": "markdown",
   "metadata": {},
   "source": [
    "### In the next cell we can look my code, this code only print a message"
   ]
  },
  {
   "cell_type": "code",
   "execution_count": null,
   "metadata": {},
   "outputs": [
    {
     "name": "stdout",
     "output_type": "stream",
     "text": [
      "Hello from Mexico, this is my first program in python!\n"
     ]
    }
   ],
   "source": [
    "print ('Hello from Mexico, this is my first program in python!')"
   ]
  },
  {
   "cell_type": "markdown",
   "metadata": {
    "tags": []
   },
   "source": [
    "1. Numbered list\n",
    "------\n",
    "\n",
    "1. First ordered list item\n",
    "2. Another item \n",
    "3. just that it's a number\n",
    "4. And another item\n",
    "-----\n",
    "2. hyperlink\n",
    "------\n",
    "(https://www.google.com \"Google's Homepage\")\n",
    "\n",
    "------\n",
    "3. Table\n",
    "------\n",
    "\n",
    "Mexico's Group results FIFA World Cup Qatar 2022\n",
    "\n",
    "| team         |  MP |  W  |  D  |  L  |  GF  |  GA  |  GD  |  PTS  |\n",
    "| ------------ | -- |--| -- | -- | -- | -- | -- | -- |\n",
    "|   Argentina  | 3 | 2| 0 | 1 | 5  |  2 |  3 |  6  |\n",
    "|    Poland    | 3 | 1 | 1 | 1 | 2 | 2 | 0 | 4 |\n",
    "|    Mexico    | 3 | 1 | 1 | 1 | 2 | 3 | -1 | 4 |\n",
    "| Saudi Arabia | 3 | 1 | 0 | 2 | 3 | 5 | -2 | 3 |"
   ]
  },
  {
   "cell_type": "code",
   "execution_count": null,
   "metadata": {},
   "outputs": [],
   "source": []
  },
  {
   "cell_type": "code",
   "execution_count": null,
   "metadata": {},
   "outputs": [],
   "source": []
  }
 ],
 "metadata": {
  "kernelspec": {
   "display_name": "Python",
   "language": "python",
   "name": "conda-env-python-py"
  },
  "language_info": {
   "codemirror_mode": {
    "name": "ipython",
    "version": 3
   },
   "file_extension": ".py",
   "mimetype": "text/x-python",
   "name": "python",
   "nbconvert_exporter": "python",
   "pygments_lexer": "ipython3",
   "version": "3.7.12"
  }
 },
 "nbformat": 4,
 "nbformat_minor": 4
}
